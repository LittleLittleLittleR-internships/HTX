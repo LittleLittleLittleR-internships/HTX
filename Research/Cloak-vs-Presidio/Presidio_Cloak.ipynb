{
  "cells": [
    {
      "cell_type": "markdown",
      "metadata": {
        "id": "bxwset3a6aCs"
      },
      "source": [
        "# Experimenting with Mircosoft Presidio and GovTech Cloak"
      ]
    },
    {
      "cell_type": "markdown",
      "metadata": {
        "id": "q87QSY4s6aCx"
      },
      "source": [
        "## Presidio\n",
        "\n",
        "##### Used to identify and anomalyze/mask PII information\n",
        "Presidio's features two main modules for anonymization PII in text:\n",
        "\n",
        "    1. Presidio analyzer: Identification of PII in text\n",
        "    2. Presidio anonymizer: De-identify detected PII entities using different operators\n",
        "\n",
        "In most cases, we would run the Presidio analyzer to detect where PII entities exist, and then the Presidio anonymizer to remove those using specific operators (such as redact, replace, hash or encrypt)"
      ]
    },
    {
      "cell_type": "code",
      "execution_count": 5,
      "metadata": {
        "id": "h5gqtdWn6aCy"
      },
      "outputs": [],
      "source": [
        "import pprint"
      ]
    },
    {
      "cell_type": "code",
      "execution_count": null,
      "metadata": {
        "id": "4uuUkQVF6aC0"
      },
      "outputs": [],
      "source": [
        "# install presidio\n",
        "!pip install presidio_analyzer\n",
        "!pip install presidio_anonymizer\n",
        "!pip install presidio-image-redactor\n",
        "!python -m spacy download en_core_web_lg"
      ]
    },
    {
      "cell_type": "markdown",
      "metadata": {
        "id": "wF8p7EtE6aC0"
      },
      "source": [
        "### 1. Presidio Analyzer"
      ]
    },
    {
      "cell_type": "code",
      "execution_count": 6,
      "metadata": {
        "id": "ZSa4v1366aC1"
      },
      "outputs": [],
      "source": [
        "from presidio_analyzer import AnalyzerEngine\n",
        "\n",
        "analyzer = AnalyzerEngine()"
      ]
    },
    {
      "cell_type": "markdown",
      "metadata": {
        "id": "J1Mlx5hQ6aC2"
      },
      "source": [
        "#### 1.1 Entities\n",
        "\n",
        "##### Some Supported Entities\n",
        "+ Global Entities:\n",
        "    + Credit Card Number: CREDIT_CARD\n",
        "    + Crypto Wallet Number: CRYPTO\n",
        "    + Dates or Periods or Times smaller than a day: DATE_TIME\n",
        "    + Email Address: EMAIL_ADDRESS\n",
        "    + International Bank Account Number (IBAN): IBAN_CODE\n",
        "    + IP address (either IPv4 or IPv6): IP_ADDRESS\n",
        "    + Nationality, Religious or Political group: NRP\n",
        "    + Location Name: LOCATION\n",
        "    + Person Name: PERSON\n",
        "    + Telephone Number: PHONE_NUMBER\n",
        "    + Common Medical License Number: MEDICAL_LICENSE\n",
        "    + URL: URL\n",
        "\n",
        "+ Singapore Entities:\n",
        "  + NRIC Number: SG_NRIC_FIN\n",
        "  + UEN: SG_UEN\n",
        "\n",
        "+ USA Entities:\n",
        "    + Bank Account Number: US_BANK_NUMBER\n",
        "    + Driver License: US_DRIVER_LICENSE\n",
        "    + Individual Taxpayer Identification Number (ITIN): US_ITIN\n",
        "    + Passport Number: US_PASSPORT\n",
        "    + Social Security Number (SSN): US_SSN"
      ]
    },
    {
      "cell_type": "markdown",
      "metadata": {
        "id": "eIdVT2Cv6aC3"
      },
      "source": [
        "##### 1.1.1 Phone Number\n",
        "\n",
        "+ Mainly identify phone numbers by their country code, except for American numbers\n",
        "+ Cannot identify Singapore numbers without the country code\n",
        "+ Confidence score also decreases if the sentence does not explicitly state that the number is a phone number"
      ]
    },
    {
      "cell_type": "code",
      "execution_count": 8,
      "metadata": {
        "colab": {
          "base_uri": "https://localhost:8080/"
        },
        "id": "vMP9XlEu6aC3",
        "outputId": "7e09e71b-2329-4d4d-e288-4ad8200f8975"
      },
      "outputs": [
        {
          "name": "stdout",
          "output_type": "stream",
          "text": [
            "Phone Number test 1:\n",
            "[type: PHONE_NUMBER, start: 46, end: 58, score: 0.75]\n",
            "\n",
            "Phone Number test 2:\n",
            "[type: PHONE_NUMBER, start: 46, end: 59, score: 0.75]\n",
            "\n",
            "Phone Number test 3:\n",
            "[]\n",
            "\n",
            "Phone Number test 4:\n",
            "[type: PHONE_NUMBER, start: 26, end: 39, score: 0.4]\n",
            "\n"
          ]
        }
      ],
      "source": [
        "# American number\n",
        "phone_number_test1 = \"His name is Mr. Jones and his phone number is 212-555-5555\"\n",
        "analyzer_results = analyzer.analyze(text=phone_number_test1, entities=[\"PHONE_NUMBER\"], language=\"en\") # Assigning only \"PHONE_NUMBER\" to entities will make the analyzer ignore other entities like \"NAME\".\n",
        "print(\"Phone Number test 1:\")\n",
        "pprint.pp(analyzer_results) #confidence scores provided\n",
        "print()\n",
        "\n",
        "# Singapore number with country code\n",
        "phone_number_test2 = \"His name is Mr. Jones and his phone number is +65 8453 2456\"\n",
        "analyzer_results = analyzer.analyze(text=phone_number_test2, entities=[\"PHONE_NUMBER\"], language=\"en\")\n",
        "print(\"Phone Number test 2:\")\n",
        "pprint.pp(analyzer_results)\n",
        "print()\n",
        "\n",
        "# Singapore number without country code **Cannot Detect**\n",
        "phone_number_test3 = \"His name is Mr. Jones and his phone number is 8453 2456\"\n",
        "analyzer_results = analyzer.analyze(text=phone_number_test3, entities=[\"PHONE_NUMBER\"], language=\"en\")\n",
        "print(\"Phone Number test 3:\")\n",
        "pprint.pp(analyzer_results)\n",
        "print()\n",
        "\n",
        "# Indirectly stating the phone number (Confidence score decreases to 0.4)\n",
        "phone_number_test4 = \"You can call Mr. Jones at +65 8453 2456\"\n",
        "analyzer_results = analyzer.analyze(text=phone_number_test4, entities=[\"PHONE_NUMBER\"], language=\"en\")\n",
        "print(\"Phone Number test 4:\")\n",
        "pprint.pp(analyzer_results)\n",
        "print()"
      ]
    },
    {
      "cell_type": "markdown",
      "metadata": {
        "id": "D93FPQSA6aC5"
      },
      "source": [
        "##### 1.1.2 Name\n",
        "\n",
        "+ Can identify lowcase and non-English names\n",
        "+ Might not be able to identify ambiguous, lowercase names (eg. smith, sky, june)"
      ]
    },
    {
      "cell_type": "code",
      "execution_count": 6,
      "metadata": {
        "colab": {
          "base_uri": "https://localhost:8080/"
        },
        "id": "-PC7vVHV6aC5",
        "outputId": "d2efe764-9b4b-4c95-ff4e-c754912103e6"
      },
      "outputs": [
        {
          "name": "stdout",
          "output_type": "stream",
          "text": [
            "Name test 1:\n",
            "[type: PERSON, start: 24, end: 29, score: 0.85]\n",
            "\n",
            "Name test 2:\n",
            "[type: PERSON, start: 24, end: 29, score: 0.85]\n",
            "\n",
            "Name test 3:\n",
            "[type: PERSON, start: 24, end: 32, score: 0.85]\n",
            "\n",
            "Name test 4:\n",
            "[]\n",
            "\n"
          ]
        }
      ],
      "source": [
        "# Normal name (Jones)\n",
        "name_test1 = \"How are you doing today Jones?\"\n",
        "print(\"Name test 1:\")\n",
        "pprint.pp(analyzer.analyze(text=name_test1, entities=[\"PERSON\"], language=\"en\"))\n",
        "print()\n",
        "\n",
        "# Lowercase name (jones)\n",
        "name_test2 = \"How are you doing today jones?\"\n",
        "print(\"Name test 2:\")\n",
        "pprint.pp(analyzer.analyze(text=name_test2, entities=[\"PERSON\"], language=\"en\"))\n",
        "print()\n",
        "\n",
        "# Chinese Name + lowercase (kok meng)\n",
        "name_test3 = \"How are you doing today kok meng?\"\n",
        "print(\"Name test 3:\")\n",
        "pprint.pp(analyzer.analyze(text=name_test3, entities=[\"PERSON\"], language=\"en\"))\n",
        "print()\n",
        "\n",
        "# Ambiguous name + lowercase (june) **Cannot Detect**\n",
        "name_test4 = \"We are on the way to visit june at her new home!\"\n",
        "print(\"Name test 4:\")\n",
        "pprint.pp(analyzer.analyze(text=name_test4, entities=[\"PERSON\"], language=\"en\"))\n",
        "print()\n"
      ]
    },
    {
      "cell_type": "markdown",
      "metadata": {
        "id": "6VxE6xM66aC6"
      },
      "source": [
        "##### 1.1.3 Presidio Analyzer has strict rules for certain types of information:\n",
        "\n",
        "+ IP Addresses: An IPv4 address is only considered valid if all numbers are between 0 and 255. For example, `256.255.1.1` is invalid because `256` is out of range.\n",
        "\n",
        "+ Credit Card Numbers: Only numbers matching real card provider formats are detected. For example, a MasterCard must start with `51` or `55`."
      ]
    },
    {
      "cell_type": "code",
      "execution_count": 7,
      "metadata": {
        "colab": {
          "base_uri": "https://localhost:8080/"
        },
        "id": "OOtg_ux76aC6",
        "outputId": "044a4e01-09db-4986-efd7-efa979e655bd"
      },
      "outputs": [
        {
          "name": "stdout",
          "output_type": "stream",
          "text": [
            "IP Address test 1:\n",
            "[type: IP_ADDRESS, start: 30, end: 43, score: 0.95]\n",
            "\n",
            "IP Address test 2:\n",
            "[]\n",
            "\n",
            "Credit Card test 1:\n",
            "[type: CREDIT_CARD, start: 44, end: 63, score: 1.0]\n",
            "\n",
            "Credit Card test 2:\n",
            "[]\n",
            "\n",
            "Credit Card test 3:\n",
            "[]\n",
            "\n"
          ]
        }
      ],
      "source": [
        "# Normal IP Address\n",
        "ip_test1 = \"You can call me at ip address 255.255.255.1\"\n",
        "print(\"IP Address test 1:\")\n",
        "pprint.pp(analyzer.analyze(text=ip_test1, entities=[\"IP_ADDRESS\"], language=\"en\"))\n",
        "print()\n",
        "\n",
        "# Wrong IP Address format (number greater than 255) **Cannot Detect**\n",
        "ip_test2 = \"You can call me at ip address 256.255.255.1\"\n",
        "print(\"IP Address test 2:\")\n",
        "pprint.pp(analyzer.analyze(text=ip_test2, entities=[\"IP_ADDRESS\"], language=\"en\"))\n",
        "print()\n",
        "\n",
        "# Normal Credit Card Number\n",
        "credit_test1 = \"When paying for the gorceries, use the card 5555 5555 5555 4444 please\"\n",
        "print(\"Credit Card test 1:\")\n",
        "pprint.pp(analyzer.analyze(text=credit_test1, entities=[\"CREDIT_CARD\"], language=\"en\"))\n",
        "print()\n",
        "\n",
        "# Wrong Credit Card format (starting number is not a valid provider) **Cannot Detect**\n",
        "credit_test2 = \"When paying for the gorceries, use the card 5355 5555 5555 4444 please\"\n",
        "print(\"Credit Card test 2:\")\n",
        "pprint.pp(analyzer.analyze(text=credit_test2, entities=[\"CREDIT_CARD\"], language=\"en\"))\n",
        "print()\n",
        "\n",
        "# Wrong Credit Card format (\".\" between the numbers) **Cannot Detect**\n",
        "credit_test3 = \"When paying for the gorceries, use the card 5555.5555.5555.4444 please\"\n",
        "print(\"Credit Card test 3:\")\n",
        "pprint.pp(analyzer.analyze(text=credit_test3, entities=[\"CREDIT_CARD\"], language=\"en\"))\n",
        "print()"
      ]
    },
    {
      "cell_type": "markdown",
      "metadata": {
        "id": "wbwJHw3b6aC6"
      },
      "source": [
        "##### 1.1.4 Differentiating between entities"
      ]
    },
    {
      "cell_type": "code",
      "execution_count": 8,
      "metadata": {
        "colab": {
          "base_uri": "https://localhost:8080/"
        },
        "id": "GoUoXyxw6aC7",
        "outputId": "05a1ef96-51e6-4da7-8872-e68133fe760e"
      },
      "outputs": [
        {
          "name": "stdout",
          "output_type": "stream",
          "text": [
            "Differentiation test 2:\n",
            "[type: IP_ADDRESS, start: 19, end: 32, score: 0.95,\n",
            " type: PHONE_NUMBER, start: 19, end: 32, score: 0.4]\n",
            "\n"
          ]
        }
      ],
      "source": [
        "# IP Address (Might confuse with phone number)\n",
        "diff_test2 = \"Is your IP Address 255.255.255.1?\"\n",
        "analyzer_results = analyzer.analyze(text=diff_test2, entities=[\"PHONE_NUMBER\", \"IP_ADDRESS\"], language=\"en\")\n",
        "print(\"Differentiation test 2:\")\n",
        "pprint.pp(analyzer_results)\n",
        "print()"
      ]
    },
    {
      "cell_type": "markdown",
      "metadata": {
        "id": "w1pLV9736aC7"
      },
      "source": [
        "#### 1.2 Extending the analyzer for additional PII entities\n",
        "https://microsoft.github.io/presidio/analyzer/adding_recognizers/#extending-the-analyzer-for-additional-pii-entities\n",
        "\n"
      ]
    },
    {
      "cell_type": "code",
      "execution_count": null,
      "metadata": {
        "colab": {
          "base_uri": "https://localhost:8080/"
        },
        "id": "T9O6LS7E6aC7",
        "outputId": "334fb99b-0288-4bfe-f728-c8544884fce1"
      },
      "outputs": [],
      "source": [
        "# Initially, requesting for a TITLE entity will raise an error:\n",
        "\n",
        "\n",
        "import traceback\n",
        "\n",
        "try:\n",
        "    print(analyzer.analyze(text=\"Mr. Schmidt\", entities=[\"TITLE\"], language=\"en\"))\n",
        "except ValueError as e:\n",
        "    traceback.print_exc()\n"
      ]
    },
    {
      "cell_type": "markdown",
      "metadata": {
        "id": "cGzB5BKn6aC7"
      },
      "source": [
        "Since Presidio Analyzer does not have a TITLE entity, we can add it ourselves"
      ]
    },
    {
      "cell_type": "code",
      "execution_count": 10,
      "metadata": {
        "colab": {
          "base_uri": "https://localhost:8080/"
        },
        "id": "a866qZMl6aC8",
        "outputId": "81fb6065-c465-456f-b14e-84543f056fe4"
      },
      "outputs": [
        {
          "name": "stdout",
          "output_type": "stream",
          "text": [
            "[type: TITLE, start: 0, end: 3, score: 1.0]\n"
          ]
        }
      ],
      "source": [
        "from presidio_analyzer import PatternRecognizer\n",
        "titles_recognizer = PatternRecognizer(supported_entity=\"TITLE\",\n",
        "                                      deny_list=[\"Mr.\",\"Mrs.\",\"Miss\"])\n",
        "\n",
        "print(titles_recognizer.analyze(text=\"Mr. Schmidt\", entities=\"TITLE\"))"
      ]
    },
    {
      "cell_type": "code",
      "execution_count": 11,
      "metadata": {
        "colab": {
          "base_uri": "https://localhost:8080/"
        },
        "id": "8saA_jc_6aC_",
        "outputId": "c9c898c6-a408-4891-9aae-f2e7363d5a9c"
      },
      "outputs": [
        {
          "name": "stdout",
          "output_type": "stream",
          "text": [
            "[type: TITLE, start: 0, end: 3, score: 1.0]\n"
          ]
        }
      ],
      "source": [
        "# Add this new recognizer to the list of recognizers used by the Presidio AnalyzerEngine\n",
        "analyzer.registry.add_recognizer(titles_recognizer)\n",
        "\n",
        "print(analyzer.analyze(text=\"Mr. Schmidt\", entities=[\"TITLE\"], language=\"en\"))"
      ]
    },
    {
      "cell_type": "markdown",
      "metadata": {
        "id": "BT9vMITz6aC_"
      },
      "source": [
        "### 2. Presidio Anonymizer"
      ]
    },
    {
      "cell_type": "code",
      "execution_count": 12,
      "metadata": {
        "id": "5PE6me3n6aC_"
      },
      "outputs": [],
      "source": [
        "from presidio_anonymizer import AnonymizerEngine\n",
        "from presidio_anonymizer.entities import RecognizerResult, OperatorConfig\n",
        "\n",
        "engine = AnonymizerEngine()"
      ]
    },
    {
      "cell_type": "markdown",
      "metadata": {
        "id": "OjLvIXcb6aDA"
      },
      "source": [
        "#### 2.1 Using Persidio Anonymizer"
      ]
    },
    {
      "cell_type": "code",
      "execution_count": null,
      "metadata": {
        "colab": {
          "base_uri": "https://localhost:8080/"
        },
        "id": "TaJaP0d96aDA",
        "outputId": "8030ca3a-4ec6-4375-d984-5052e7ac0f6a"
      },
      "outputs": [
        {
          "name": "stdout",
          "output_type": "stream",
          "text": [
            "De-identified text\n",
            "My name is <PERSON>, <PERSON>\n"
          ]
        }
      ],
      "source": [
        "# Analyzer output\n",
        "analyzer_results = [\n",
        "    RecognizerResult(entity_type=\"PERSON\", start=11, end=15, score=0.8),\n",
        "    RecognizerResult(entity_type=\"PERSON\", start=17, end=27, score=0.8),\n",
        "]\n",
        "\n",
        "# Invoke the anonymize function with the text,\n",
        "# analyzer results (potentially coming from presidio-analyzer) and\n",
        "# Operators to get the anonymization output:\n",
        "result = engine.anonymize(\n",
        "    text=\"My name is Bond, James Bond\", analyzer_results=analyzer_results\n",
        ")\n",
        "\n",
        "print(\"De-identified text\")\n",
        "print(result.text)"
      ]
    },
    {
      "cell_type": "markdown",
      "metadata": {
        "id": "PjW5A9Nc6aDA"
      },
      "source": [
        "#### 2.2 Modify Anonymizer Masking"
      ]
    },
    {
      "cell_type": "code",
      "execution_count": 14,
      "metadata": {
        "id": "eDYOO5DQ6aDA"
      },
      "outputs": [],
      "source": [
        "import json\n",
        "\n",
        "# Define anonymization operators\n",
        "operators = {\n",
        "    \"DEFAULT\": OperatorConfig(\"replace\", {\"new_value\": \"<ANONYMIZED>\"}), # Defult for everything\n",
        "    \"PHONE_NUMBER\": OperatorConfig(\n",
        "        \"mask\",\n",
        "        {\n",
        "            \"type\": \"mask\",\n",
        "            \"masking_char\": \"*\",\n",
        "            \"chars_to_mask\": 9,\n",
        "            \"from_end\": True,\n",
        "        },\n",
        "    ),\n",
        "    \"CREDIT_CARD\": OperatorConfig(\n",
        "        \"mask\",\n",
        "        {\n",
        "            \"type\": \"mask\",\n",
        "            \"masking_char\": \"X\",\n",
        "            \"chars_to_mask\": 17,\n",
        "            \"from_end\": True,\n",
        "        },\n",
        "    ),\n",
        "}"
      ]
    },
    {
      "cell_type": "code",
      "execution_count": 15,
      "metadata": {
        "colab": {
          "base_uri": "https://localhost:8080/"
        },
        "id": "Zdklqp2_6aDB",
        "outputId": "126e1e4e-995f-4fac-8a7b-0b5571133932"
      },
      "outputs": [
        {
          "name": "stdout",
          "output_type": "stream",
          "text": [
            "Analyzer Output:\n",
            "[type: CREDIT_CARD, start: 91, end: 110, score: 1.0,\n",
            " type: PERSON, start: 11, end: 23, score: 0.85,\n",
            " type: PHONE_NUMBER, start: 47, end: 60, score: 0.75]\n",
            "\n",
            "Text:\n",
            "My name is <ANONYMIZED> and my phone number is +65 *********, and my credit card number is 55XXXXXXXXXXXXXXXXX\n",
            "\n",
            "Detailed Result:\n",
            "{'text': 'My name is <ANONYMIZED> and my phone number is +65 *********, and my '\n",
            "         'credit card number is 55XXXXXXXXXXXXXXXXX',\n",
            " 'items': [{'start': 91,\n",
            "            'end': 110,\n",
            "            'entity_type': 'CREDIT_CARD',\n",
            "            'text': '55XXXXXXXXXXXXXXXXX',\n",
            "            'operator': 'mask'},\n",
            "           {'start': 47,\n",
            "            'end': 60,\n",
            "            'entity_type': 'PHONE_NUMBER',\n",
            "            'text': '+65 *********',\n",
            "            'operator': 'mask'},\n",
            "           {'start': 11,\n",
            "            'end': 23,\n",
            "            'entity_type': 'PERSON',\n",
            "            'text': '<ANONYMIZED>',\n",
            "            'operator': 'replace'}]}\n"
          ]
        }
      ],
      "source": [
        "text_to_anonymize = \"My name is Ngoh Wei Jie and my phone number is +65 9777 1234, and my credit card number is 5555-5555-5555-4444\"\n",
        "\n",
        "analyzer_results = analyzer.analyze(text=text_to_anonymize, entities=[\"PHONE_NUMBER\", \"PERSON\", \"CREDIT_CARD\"], language=\"en\")\n",
        "\n",
        "print(\"Analyzer Output:\")\n",
        "pprint.pp(analyzer_results) #confidence scores provided\n",
        "print()\n",
        "\n",
        "anonymized_results = engine.anonymize(\n",
        "    text=text_to_anonymize, analyzer_results=analyzer_results, operators=operators\n",
        ")\n",
        "\n",
        "print(\"Text:\")\n",
        "print(anonymized_results.text)\n",
        "print()\n",
        "\n",
        "print(\"Detailed Result:\")\n",
        "pprint.pp(json.loads(anonymized_results.to_json()))"
      ]
    },
    {
      "cell_type": "markdown",
      "metadata": {
        "id": "lh11IRGw6aDB"
      },
      "source": [
        "##### 2.2.1 Cons in modifying anonymizer using `OperatorConfig`\n",
        "\n",
        "- `char_to_mask` is a required parameter that fixes the number of characters that will be masked, which might affect the anonymization of information if they are entered in different formats"
      ]
    },
    {
      "cell_type": "code",
      "execution_count": 16,
      "metadata": {
        "colab": {
          "base_uri": "https://localhost:8080/"
        },
        "id": "40G0HzuB6aDB",
        "outputId": "9cc6fbf5-e0c6-4242-e889-5122fb898eb9"
      },
      "outputs": [
        {
          "name": "stdout",
          "output_type": "stream",
          "text": [
            "Format 1: My phone number is 55********\n",
            "Format 2: My phone number is (555) ********\n"
          ]
        }
      ],
      "source": [
        "operator = {\n",
        "    \"DEFAULT\": OperatorConfig(\"replace\", {\"new_value\": \"<ANONYMIZED>\"}), # Defult for everything\n",
        "    \"PHONE_NUMBER\": OperatorConfig(\n",
        "        \"mask\",\n",
        "        {\n",
        "            \"type\": \"mask\",\n",
        "            \"masking_char\": \"*\",\n",
        "            \"chars_to_mask\": 8, # The number of characters to mask is fixed to 9\n",
        "            \"from_end\": True,\n",
        "        },\n",
        "    ),\n",
        "}\n",
        "\n",
        "format1 = \"My phone number is 5551234567\"\n",
        "format2 = \"My phone number is (555) 123 4567\"\n",
        "\n",
        "analyzer_results1 = analyzer.analyze(text=format1, language=\"en\")\n",
        "analyzer_results2 = analyzer.analyze(text=format2, language=\"en\")\n",
        "\n",
        "anonymized_results1 = engine.anonymize(\n",
        "    text=format1, analyzer_results=analyzer_results1, operators=operator\n",
        ")\n",
        "anonymized_results2 = engine.anonymize(\n",
        "    text=format2, analyzer_results=analyzer_results2, operators=operator\n",
        ")\n",
        "\n",
        "print(\"Format 1:\", anonymized_results1.text)\n",
        "print(\"Format 2:\", anonymized_results2.text)"
      ]
    },
    {
      "cell_type": "markdown",
      "metadata": {
        "id": "XGQ79Xf66aDC"
      },
      "source": [
        "### 3. Encryption and Decryption"
      ]
    },
    {
      "cell_type": "markdown",
      "metadata": {
        "id": "4kZefFdx6aDC"
      },
      "source": [
        "#### 3.1 Encryption"
      ]
    },
    {
      "cell_type": "code",
      "execution_count": 17,
      "metadata": {
        "id": "7R56KqoO6aDD"
      },
      "outputs": [],
      "source": [
        "from presidio_anonymizer import AnonymizerEngine, DeanonymizeEngine\n",
        "from presidio_anonymizer.entities import (\n",
        "    RecognizerResult,\n",
        "    OperatorResult,\n",
        "    OperatorConfig,\n",
        ")"
      ]
    },
    {
      "cell_type": "code",
      "execution_count": 18,
      "metadata": {
        "colab": {
          "base_uri": "https://localhost:8080/"
        },
        "id": "RxmrjBXc6aDD",
        "outputId": "dd6dcde5-7c3a-4f0f-d16b-42550c8e612a"
      },
      "outputs": [
        {
          "name": "stdout",
          "output_type": "stream",
          "text": [
            "{'text': 'I want a refund, I am w7HcKalEKU5YXSGtdTojZ6Or5mMCZjs3Gs7c4N4pfiI= '\n",
            "         'and email is '\n",
            "         'W6lg2JYdc8ecCtr5wi6Zubk4TFVDFViGpxixCO8XL4cZnwSEPAW8fHHYZQrcVJP9, i '\n",
            "         'have a sister HciWYCvwzQyEHX2fpLnliwoE6axOkdLkNgeulEfc2Is=',\n",
            " 'items': [{'start': 162,\n",
            "            'end': 206,\n",
            "            'entity_type': 'PERSON',\n",
            "            'text': 'HciWYCvwzQyEHX2fpLnliwoE6axOkdLkNgeulEfc2Is=',\n",
            "            'operator': 'encrypt'},\n",
            "           {'start': 80,\n",
            "            'end': 144,\n",
            "            'entity_type': 'EMAIL_ADDRESS',\n",
            "            'text': 'W6lg2JYdc8ecCtr5wi6Zubk4TFVDFViGpxixCO8XL4cZnwSEPAW8fHHYZQrcVJP9',\n",
            "            'operator': 'encrypt'},\n",
            "           {'start': 22,\n",
            "            'end': 66,\n",
            "            'entity_type': 'PERSON',\n",
            "            'text': 'w7HcKalEKU5YXSGtdTojZ6Or5mMCZjs3Gs7c4N4pfiI=',\n",
            "            'operator': 'encrypt'}]}\n"
          ]
        }
      ],
      "source": [
        "crypto_key = \"WmZq4t7w!z%C&F)J\"\n",
        "\n",
        "text = \"I want a refund, I am james bond and email is jamesbond@htx.gov.sg, i have a sister Johnathan\"\n",
        "\n",
        "analyzer_results=AnalyzerEngine().analyze(text=text, language=\"en\")\n",
        "\n",
        "# Invoke the anonymize function with the text,\n",
        "# analyzer results (potentially coming from presidio-analyzer)\n",
        "# and an 'encrypt' operator to get an encrypted anonymization output:\n",
        "anonymize_result = engine.anonymize(\n",
        "    text=text,\n",
        "    analyzer_results=analyzer_results,\n",
        "    operators={\"DEFAULT\": OperatorConfig(\"encrypt\", {\"key\": crypto_key})},\n",
        ")\n",
        "\n",
        "pprint.pp(json.loads(anonymize_result.to_json()))"
      ]
    },
    {
      "cell_type": "markdown",
      "metadata": {
        "id": "_vSeb7A-6aDF"
      },
      "source": [
        "#### 3.2 Decryption"
      ]
    },
    {
      "cell_type": "code",
      "execution_count": 19,
      "metadata": {
        "colab": {
          "base_uri": "https://localhost:8080/"
        },
        "id": "aZcBruEx6aDF",
        "outputId": "2b07a33a-826f-439c-f9a8-92bd5d7c88f8"
      },
      "outputs": [
        {
          "name": "stdout",
          "output_type": "stream",
          "text": [
            "{'text': 'I want a refund, I am james bond and email is jamesbond@htx.gov.sg, '\n",
            "         'i have a sister Johnathan',\n",
            " 'items': [{'start': 84,\n",
            "            'end': 93,\n",
            "            'entity_type': 'PERSON',\n",
            "            'text': 'Johnathan',\n",
            "            'operator': 'decrypt'},\n",
            "           {'start': 46,\n",
            "            'end': 66,\n",
            "            'entity_type': 'EMAIL_ADDRESS',\n",
            "            'text': 'jamesbond@htx.gov.sg',\n",
            "            'operator': 'decrypt'},\n",
            "           {'start': 22,\n",
            "            'end': 32,\n",
            "            'entity_type': 'PERSON',\n",
            "            'text': 'james bond',\n",
            "            'operator': 'decrypt'}]}\n"
          ]
        }
      ],
      "source": [
        "# Fetch the anonymized text from the result.\n",
        "anonymized_text = anonymize_result.text\n",
        "\n",
        "# Fetch the anonynized entities from the result.\n",
        "anonymized_entities = anonymize_result.items\n",
        "\n",
        "# Initialize the deanonymization engine:\n",
        "engine = DeanonymizeEngine()\n",
        "\n",
        "# Invoke the deanonymize function with the text, anonymizer results\n",
        "# and a 'decrypt' operator to get the original text as output.\n",
        "deanonymized_result = engine.deanonymize(\n",
        "    text=anonymized_text,\n",
        "    entities=anonymized_entities,\n",
        "    operators={\"DEFAULT\": OperatorConfig(\"decrypt\", {\"key\": crypto_key})},\n",
        ")\n",
        "\n",
        "pprint.pp(json.loads(deanonymized_result.to_json()))"
      ]
    },
    {
      "cell_type": "markdown",
      "metadata": {
        "id": "dkzECsiW6aDF"
      },
      "source": [
        "### 4. Pseudo Anonymizer\n",
        "Reversible, for LLM input/output"
      ]
    },
    {
      "cell_type": "markdown",
      "metadata": {
        "id": "XXSEp0O66aDF"
      },
      "source": [
        "#### 4.1 Pseudo Anonymize"
      ]
    },
    {
      "cell_type": "code",
      "execution_count": 20,
      "metadata": {
        "id": "AdAs_uNi6aDG"
      },
      "outputs": [],
      "source": [
        "# Use Presidio Analyzer to identify all the PII entities\n",
        "\n",
        "from presidio_analyzer import AnalyzerEngine\n",
        "from presidio_anonymizer import AnonymizerEngine, OperatorConfig\n",
        "from presidio_anonymizer.operators import Operator, OperatorType\n",
        "\n",
        "from typing import Dict\n",
        "import pprint\n",
        "\n",
        "#text = \"Please i want a refund,my name is james bond and email is jamesbond@htx.gov.sg, i live at htx avenue 51322. I have a brother, Johnathan Ong\"\n",
        "text = \"Peter gave his book to Heidi which later gave it to Nicole. Peter lives in London and Nicole lives in Tashkent.\"\n",
        "\n",
        "analyzer = AnalyzerEngine()\n",
        "analyzer_results = analyzer.analyze(text=text, language=\"en\")"
      ]
    },
    {
      "cell_type": "code",
      "execution_count": 21,
      "metadata": {
        "colab": {
          "base_uri": "https://localhost:8080/"
        },
        "id": "s16QR1S16aDG",
        "outputId": "f38ce804-1f38-4e6e-e5c2-e1bd777f0576"
      },
      "outputs": [
        {
          "name": "stdout",
          "output_type": "stream",
          "text": [
            "original text:\n",
            "('Peter gave his book to Heidi which later gave it to Nicole. Peter lives in '\n",
            " 'London and Nicole lives in Tashkent.')\n",
            "analyzer results:\n",
            "[type: PERSON, start: 0, end: 5, score: 0.85,\n",
            " type: PERSON, start: 23, end: 28, score: 0.85,\n",
            " type: PERSON, start: 52, end: 58, score: 0.85,\n",
            " type: PERSON, start: 60, end: 65, score: 0.85,\n",
            " type: LOCATION, start: 75, end: 81, score: 0.85,\n",
            " type: PERSON, start: 86, end: 92, score: 0.85,\n",
            " type: LOCATION, start: 102, end: 110, score: 0.85]\n"
          ]
        }
      ],
      "source": [
        "print(\"original text:\")\n",
        "pprint.pp(text)\n",
        "\n",
        "print(\"analyzer results:\")\n",
        "pprint.pp(analyzer_results)"
      ]
    },
    {
      "cell_type": "code",
      "execution_count": 22,
      "metadata": {
        "id": "ABeX-3496aDT"
      },
      "outputs": [],
      "source": [
        "# Make the Anonymizer Class\n",
        "\n",
        "class InstanceCounterAnonymizer(Operator):\n",
        "    \"\"\"\n",
        "    Anonymizer which replaces the entity value\n",
        "    with an instance counter per entity.\n",
        "    \"\"\"\n",
        "\n",
        "    REPLACING_FORMAT = \"<{entity_type}_{index}>\"\n",
        "\n",
        "    def operate(self, text: str, params: Dict = None) -> str:\n",
        "        \"\"\"Anonymize the input text.\"\"\"\n",
        "\n",
        "        entity_type: str = params[\"entity_type\"]\n",
        "\n",
        "        # entity_mapping is a dict of dicts containing mappings per entity type\n",
        "        entity_mapping: Dict[Dict:str] = params[\"entity_mapping\"]\n",
        "\n",
        "        entity_mapping_for_type = entity_mapping.get(entity_type)\n",
        "        if not entity_mapping_for_type:\n",
        "            new_text = self.REPLACING_FORMAT.format(\n",
        "                entity_type=entity_type, index=0\n",
        "            )\n",
        "            entity_mapping[entity_type] = {}\n",
        "\n",
        "        else:\n",
        "            if text in entity_mapping_for_type:\n",
        "                return entity_mapping_for_type[text]\n",
        "\n",
        "            previous_index = self._get_last_index(entity_mapping_for_type)\n",
        "            new_text = self.REPLACING_FORMAT.format(\n",
        "                entity_type=entity_type, index=previous_index + 1\n",
        "            )\n",
        "\n",
        "        entity_mapping[entity_type][new_text] = text\n",
        "        return new_text\n",
        "\n",
        "    @staticmethod\n",
        "    def _get_last_index(entity_mapping_for_type: Dict) -> int:\n",
        "        \"\"\"Get the last index for a given entity type.\"\"\"\n",
        "\n",
        "        def get_index(value: str) -> int:\n",
        "            return int(value.split(\"_\")[-1][:-1])\n",
        "\n",
        "        indices = [get_index(v) for v in entity_mapping_for_type.keys()]\n",
        "        return max(indices)\n",
        "\n",
        "    def validate(self, params: Dict = None) -> None:\n",
        "        \"\"\"Validate operator parameters.\"\"\"\n",
        "\n",
        "        if \"entity_mapping\" not in params:\n",
        "            raise ValueError(\"An input Dict called `entity_mapping` is required.\")\n",
        "        if \"entity_type\" not in params:\n",
        "            raise ValueError(\"An entity_type param is required.\")\n",
        "\n",
        "    def operator_name(self) -> str:\n",
        "        return \"entity_counter\"\n",
        "\n",
        "    def operator_type(self) -> OperatorType:\n",
        "        return OperatorType.Anonymize\n"
      ]
    },
    {
      "cell_type": "code",
      "execution_count": 23,
      "metadata": {
        "id": "B-XdJM606aDT"
      },
      "outputs": [],
      "source": [
        "# Create Anonymizer engine and add the custom anonymizer\n",
        "\n",
        "anonymizer_engine = AnonymizerEngine()\n",
        "anonymizer_engine.add_anonymizer(InstanceCounterAnonymizer)\n",
        "\n",
        "# Create a mapping between entity types and counters\n",
        "entity_mapping = dict()\n",
        "\n",
        "# Anonymize the text\n",
        "\n",
        "anonymized_result = anonymizer_engine.anonymize(\n",
        "    text,\n",
        "    analyzer_results,\n",
        "    {\n",
        "        \"DEFAULT\": OperatorConfig(\n",
        "            \"entity_counter\", {\"entity_mapping\": entity_mapping}\n",
        "        )\n",
        "    },\n",
        ")"
      ]
    },
    {
      "cell_type": "code",
      "execution_count": 24,
      "metadata": {
        "colab": {
          "base_uri": "https://localhost:8080/"
        },
        "id": "R5sQYi0c6aDT",
        "outputId": "c5b38f61-611a-4289-ae9f-a12df9c61434"
      },
      "outputs": [
        {
          "name": "stdout",
          "output_type": "stream",
          "text": [
            "<PERSON_4> gave his book to <PERSON_3> which later gave it to <PERSON_2>. <PERSON_1> lives in <LOCATION_1> and <PERSON_0> lives in <LOCATION_0>.\n"
          ]
        }
      ],
      "source": [
        "print(anonymized_result.text)"
      ]
    },
    {
      "cell_type": "code",
      "execution_count": 25,
      "metadata": {
        "colab": {
          "base_uri": "https://localhost:8080/"
        },
        "id": "71i_n6_H6aDU",
        "outputId": "ce4c6094-869b-4d2f-a952-d8fdc88038d5"
      },
      "outputs": [
        {
          "name": "stdout",
          "output_type": "stream",
          "text": [
            "{'text': '<PERSON_4> gave his book to <PERSON_3> which later gave it to '\n",
            "         '<PERSON_2>. <PERSON_1> lives in <LOCATION_1> and <PERSON_0> lives in '\n",
            "         '<LOCATION_0>.',\n",
            " 'items': [{'start': 131,\n",
            "            'end': 143,\n",
            "            'entity_type': 'LOCATION',\n",
            "            'text': '<LOCATION_0>',\n",
            "            'operator': 'entity_counter'},\n",
            "           {'start': 111,\n",
            "            'end': 121,\n",
            "            'entity_type': 'PERSON',\n",
            "            'text': '<PERSON_0>',\n",
            "            'operator': 'entity_counter'},\n",
            "           {'start': 94,\n",
            "            'end': 106,\n",
            "            'entity_type': 'LOCATION',\n",
            "            'text': '<LOCATION_1>',\n",
            "            'operator': 'entity_counter'},\n",
            "           {'start': 74,\n",
            "            'end': 84,\n",
            "            'entity_type': 'PERSON',\n",
            "            'text': '<PERSON_1>',\n",
            "            'operator': 'entity_counter'},\n",
            "           {'start': 62,\n",
            "            'end': 72,\n",
            "            'entity_type': 'PERSON',\n",
            "            'text': '<PERSON_2>',\n",
            "            'operator': 'entity_counter'},\n",
            "           {'start': 28,\n",
            "            'end': 38,\n",
            "            'entity_type': 'PERSON',\n",
            "            'text': '<PERSON_3>',\n",
            "            'operator': 'entity_counter'},\n",
            "           {'start': 0,\n",
            "            'end': 10,\n",
            "            'entity_type': 'PERSON',\n",
            "            'text': '<PERSON_4>',\n",
            "            'operator': 'entity_counter'}]}\n"
          ]
        }
      ],
      "source": [
        "pprint.pp(json.loads(anonymized_result.to_json()))"
      ]
    },
    {
      "cell_type": "code",
      "execution_count": 26,
      "metadata": {
        "colab": {
          "base_uri": "https://localhost:8080/"
        },
        "id": "hkRWaFn_6aDU",
        "outputId": "5a8dffe9-895a-4298-c223-b87b3b7a1d31"
      },
      "outputs": [
        {
          "data": {
            "text/plain": [
              "{'LOCATION': {'<LOCATION_0>': 'Tashkent', '<LOCATION_1>': 'London'},\n",
              " 'PERSON': {'<PERSON_0>': 'Nicole',\n",
              "  '<PERSON_1>': 'Peter',\n",
              "  '<PERSON_2>': 'Nicole',\n",
              "  '<PERSON_3>': 'Heidi',\n",
              "  '<PERSON_4>': 'Peter'}}"
            ]
          },
          "execution_count": 26,
          "metadata": {},
          "output_type": "execute_result"
        }
      ],
      "source": [
        "entity_mapping"
      ]
    },
    {
      "cell_type": "markdown",
      "metadata": {
        "id": "LDAxVt1F6aDU"
      },
      "source": [
        "#### 4.2 Pseudo Deanonymize"
      ]
    },
    {
      "cell_type": "code",
      "execution_count": 27,
      "metadata": {
        "id": "Nl1ZkfHc6aDU"
      },
      "outputs": [],
      "source": [
        "# Use Presidio Analyzer to identify all the PII entities\n",
        "\n",
        "# String that is outputed by LLM\n",
        "llm_str = \"<PERSON_4> gave his book to <PERSON_3> which later gave it to <PERSON_2>. <PERSON_1> lives in <LOCATION_1> and <PERSON_0> lives in <LOCATION_0>.\""
      ]
    },
    {
      "cell_type": "code",
      "execution_count": 28,
      "metadata": {
        "id": "Uh05deXf6aDV"
      },
      "outputs": [],
      "source": [
        "# Make manual map back function\n",
        "def map_back(llm_output: str, entity_mapping):\n",
        "    for entity in entity_mapping:\n",
        "        for name in entity_mapping[entity]:\n",
        "            llm_output = llm_output.replace(name, entity_mapping[entity][name])\n",
        "    return llm_output"
      ]
    },
    {
      "cell_type": "code",
      "execution_count": 29,
      "metadata": {
        "colab": {
          "base_uri": "https://localhost:8080/",
          "height": 35
        },
        "id": "QStqGqvy6aDV",
        "outputId": "3ad59bca-05e9-4334-d483-c186ee3c5cad"
      },
      "outputs": [
        {
          "data": {
            "text/plain": [
              "'Peter gave his book to Heidi which later gave it to Nicole. Peter lives in London and Nicole lives in Tashkent.'"
            ]
          },
          "execution_count": 29,
          "metadata": {},
          "output_type": "execute_result"
        }
      ],
      "source": [
        "map_back(llm_str, entity_mapping)"
      ]
    },
    {
      "cell_type": "markdown",
      "metadata": {
        "id": "03_QMam16aDV"
      },
      "source": [
        "### 5. Image Redactor"
      ]
    },
    {
      "cell_type": "code",
      "execution_count": 30,
      "metadata": {
        "id": "oxdg5dv96aDV"
      },
      "outputs": [],
      "source": [
        "from PIL import Image\n",
        "from presidio_image_redactor import ImageRedactorEngine"
      ]
    },
    {
      "cell_type": "markdown",
      "metadata": {
        "id": "HQ9J0kEb6aDW"
      },
      "source": [
        "#### Ensure Tesseract ORC is installed\n",
        "\n",
        "+ On Ubuntu/Debian\n",
        "\n",
        "`sudo apt update && sudo apt install tesseract-ocr -y`\n",
        "\n",
        "+ On macOS (Using Homebrew)\n",
        "\n",
        "`brew install tesseract`\n",
        "\n",
        "+ On Windows\n",
        "\n",
        "Download the installer from: [Tesseract OCR Releases](https://github.com/UB-Mannheim/tesseract/wiki)\n",
        "\n",
        "Add the installation path to your system's PATH variable"
      ]
    },
    {
      "cell_type": "code",
      "execution_count": 31,
      "metadata": {
        "id": "KmS42zNH6aDW"
      },
      "outputs": [],
      "source": [
        "# Get the image to redact using PIL lib (pillow)\n",
        "image = Image.open(\"./sensitive_image.png\")\n",
        "\n",
        "# Initialize the engine\n",
        "engine = ImageRedactorEngine()\n",
        "\n",
        "# Redact the image with pink color\n",
        "redacted_image = engine.redact(image)\n",
        "\n",
        "# save the redacted image\n",
        "redacted_image.save(\"redacted_image.png\")\n",
        "# uncomment to open the image for viewing\n",
        "# redacted_image.show()"
      ]
    },
    {
      "cell_type": "markdown",
      "metadata": {
        "id": "WKSLvSCT6aDX"
      },
      "source": [
        "## Cloak API"
      ]
    },
    {
      "cell_type": "markdown",
      "metadata": {
        "id": "fVCLv2F_6aDX"
      },
      "source": [
        "### 1. Text Anonymisation\n",
        "\n",
        "- Analyse\n",
        "- Anonymise\n",
        "- Transform\n",
        "\n",
        "Entites Types: https://guide.cloak.gov.sg/free-text-anonymisation/free-text-anonymisation/entity-types"
      ]
    },
    {
      "cell_type": "code",
      "execution_count": 9,
      "metadata": {
        "id": "1e81g4RY6aDX"
      },
      "outputs": [],
      "source": [
        "# import needed libraries\n",
        "import requests\n",
        "from cloak_help import generate_signature, extract_url_info"
      ]
    },
    {
      "cell_type": "code",
      "execution_count": null,
      "metadata": {
        "id": "xZ7S-9KO6aDY"
      },
      "outputs": [],
      "source": [
        "# define private and public key\n",
        "public_key = \"ENTER_YOUR_PUBLIC_KEY\"\n",
        "private_key = \"ENTER_YOUR_PRIVATE_KEY\""
      ]
    },
    {
      "cell_type": "markdown",
      "metadata": {
        "id": "W2vV6LgP6aDY"
      },
      "source": [
        "#### 1.1 Analyse\n",
        "\n",
        "##### `payload` parameters\n",
        "| Parameter | Required/Optional | Default | Description |\n",
        "|----------|----------|----------|----------|\n",
        "| text  | required  | NIL  | text to be analyzed  |\n",
        "| language  | required  | NIL  | language of the text  |\n",
        "| score_threshold  | optional  | 0.3  | confidence score has to be above threshold score in order to be considered detected  |\n",
        "| entities  | optional  | all entities  | entities to detect  |\n",
        "| allow_list  | optional  | none  | terms that should not be detected or redacted as PII, even if they match an entity type  |\n",
        "| analyze_parameters  | optional  | none  | allows fine-tuning of entity detection behavior  |"
      ]
    },
    {
      "cell_type": "code",
      "execution_count": 11,
      "metadata": {
        "id": "nQQ4Y4CD6aDZ"
      },
      "outputs": [],
      "source": [
        "# Analyse Endpoint\n",
        "http_method = \"POST\"\n",
        "\n",
        "url = 'https://ext-api.cloak.gov.sg/prod/L4/analyze'\n",
        "\n",
        "payload = {\n",
        "    \"text\": \"Dear Sir/Madam, I am writing to appeal to the Singapore Ministry of Manpower on behalf of my wife, Kim Harin (S8273756Y), whose work pass is due for renewal. Her date of birth is 11 November 1911. Our Singapore address is Block 555 Tampines North Drive 12 #11-11 Singapore 510555. My mobile number is 9384 5432 and Harin’s number is +65 88534123 or you can email us at kimfamily@gmail.com.\",\n",
        "    \"language\": \"en\",\n",
        "    \"score_threshold\": 0.3,\n",
        "    \"entities\": [\n",
        "        \"PERSON\",\n",
        "        \"SG_NRIC_FIN\",\n",
        "        \"SG_BANK_ACCOUNT_NUMBER\",\n",
        "        \"SG_ADDRESS\",\n",
        "        \"PHONE_NUMBER\"\n",
        "    ],\n",
        "    \"allow_list\": [\"giro\"],\n",
        "    \"analyze_parameters\": {\n",
        "        \"nric\": {\n",
        "            \"checksum\": False # analyzer will still detect NRIC entities even if they fail checksum validation, since it is set to False\n",
        "        }\n",
        "    }\n",
        "}\n",
        "\n",
        "service = \"fta\"\n",
        "\n",
        "signed_headers = {\n",
        "    \"Content-Type\": \"application/json\"\n",
        "}"
      ]
    },
    {
      "cell_type": "code",
      "execution_count": 12,
      "metadata": {
        "id": "fMkbnwMC6aDa",
        "outputId": "8736bbde-1ddd-41fe-cd88-d6faeacf237b"
      },
      "outputs": [
        {
          "data": {
            "text/plain": [
              "[{'analysis_explanation': None,\n",
              "  'end': 119,\n",
              "  'entity_type': 'SG_NRIC_FIN',\n",
              "  'recognition_metadata': {'recognizer_identifier': 'SgFinRecognizer_140706163607920',\n",
              "   'recognizer_name': 'SgFinRecognizer'},\n",
              "  'score': 1.0,\n",
              "  'start': 110},\n",
              " {'analysis_explanation': None,\n",
              "  'end': 279,\n",
              "  'entity_type': 'SG_ADDRESS',\n",
              "  'recognition_metadata': {'recognizer_identifier': 'SgAddressRecognizer_140706163607680',\n",
              "   'recognizer_name': 'SgAddressRecognizer'},\n",
              "  'score': 0.95,\n",
              "  'start': 222},\n",
              " {'analysis_explanation': None,\n",
              "  'end': 310,\n",
              "  'entity_type': 'PHONE_NUMBER',\n",
              "  'recognition_metadata': {'recognizer_identifier': 'PhoneRecognizer_140706163609312',\n",
              "   'recognizer_name': 'PhoneRecognizer'},\n",
              "  'score': 0.95,\n",
              "  'start': 301},\n",
              " {'analysis_explanation': None,\n",
              "  'end': 345,\n",
              "  'entity_type': 'PHONE_NUMBER',\n",
              "  'recognition_metadata': {'recognizer_identifier': 'PhoneRecognizer_140706163609312',\n",
              "   'recognizer_name': 'PhoneRecognizer'},\n",
              "  'score': 0.95,\n",
              "  'start': 333},\n",
              " {'analysis_explanation': None,\n",
              "  'end': 108,\n",
              "  'entity_type': 'PERSON',\n",
              "  'recognition_metadata': {'recognizer_identifier': 'SpacyRecognizer_140706163609264',\n",
              "   'recognizer_name': 'SpacyRecognizer'},\n",
              "  'score': 0.85,\n",
              "  'start': 99},\n",
              " {'analysis_explanation': None,\n",
              "  'end': 320,\n",
              "  'entity_type': 'PERSON',\n",
              "  'recognition_metadata': {'recognizer_identifier': 'SpacyRecognizer_140706163609264',\n",
              "   'recognizer_name': 'SpacyRecognizer'},\n",
              "  'score': 0.85,\n",
              "  'start': 315},\n",
              " {'analysis_explanation': None,\n",
              "  'end': 345,\n",
              "  'entity_type': 'SG_BANK_ACCOUNT_NUMBER',\n",
              "  'recognition_metadata': {'recognizer_identifier': 'SgBankAccountRecognizer_140706163607968',\n",
              "   'recognizer_name': 'SgBankAccountRecognizer'},\n",
              "  'score': 0.45999999999999996,\n",
              "  'start': 337}]"
            ]
          },
          "execution_count": 12,
          "metadata": {},
          "output_type": "execute_result"
        }
      ],
      "source": [
        "path, query_params = extract_url_info(url)\n",
        "signature = generate_signature(http_method, path, query_params, signed_headers, payload, private_key, service)\n",
        "authorization = f'CLOAK-AUTH Credential={public_key},SignedHeaders=content-type,Signature={signature}'\n",
        "headers = {'Content-Type':'application/json', 'Accept':'application/json', 'Authorization': f'{authorization}', 'x-cloak-service': f'{service}'}\n",
        "response = requests.post(url, headers=headers, json=payload, verify=False)\n",
        "response.json()"
      ]
    },
    {
      "cell_type": "markdown",
      "metadata": {
        "id": "MWI-6voP6aDa"
      },
      "source": [
        "#### 1.2 Anonymise\n",
        "\n",
        "##### `payload` parameters\n",
        "| Parameter | Required/Optional | Default | Description |\n",
        "|----------|----------|----------|----------|\n",
        "| text  | required  | NIL  | text to be anonymised  |\n",
        "| anonymizers  | optional  | default anonymisation for all entities: `<PERSON>`, `<PHONE_NUMBER>`, etc.  | modify how entities will be anonymized  |\n",
        "| analyzer_results  | required  | NIL  | PII entities detected from Analyzer  |"
      ]
    },
    {
      "cell_type": "code",
      "execution_count": 13,
      "metadata": {
        "id": "O_IMFM9D6aDa"
      },
      "outputs": [],
      "source": [
        "# Anonymise Endpoint\n",
        "http_method = \"POST\"\n",
        "\n",
        "url = 'https://ext-api.cloak.gov.sg/prod/L4/anonymize'\n",
        "\n",
        "payload = {\n",
        "    \"text\": \"Dear Sir/Madam, I am writing to appeal to the Singapore Ministry of Manpower on behalf of my wife, Kim Harin (S8273756Y), whose work pass is due for renewal. Her date of birth is 11 November 1911. Our Singapore address is Block 555 Tampines North Drive 12 #11-11 Singapore 510555. My mobile number is 9384 5432 and Harin’s number is +65 88534123 or you can email us at kimfamily@gmail.com.\",\n",
        "    \"anonymizers\": {\n",
        "        \"SG_NRIC_FIN\": {\n",
        "            \"type\": \"replace\",\n",
        "            \"new_value\": \"<MASKED NRIC>\"\n",
        "        },\n",
        "    },\n",
        "    \"analyzer_results\": [\n",
        "        {\n",
        "            \"analysis_explanation\": None,\n",
        "            \"end\": 119,\n",
        "            \"entity_type\": \"SG_NRIC_FIN\",\n",
        "            \"recognition_metadata\": {\n",
        "                \"recognizer_identifier\": \"SgFinRecognizer_140322543810544\",\n",
        "                \"recognizer_name\": \"SgFinRecognizer\"\n",
        "            },\n",
        "            \"score\": 1.0,\n",
        "            \"start\": 110\n",
        "        },\n",
        "        {\n",
        "            \"analysis_explanation\": None,\n",
        "            \"end\": 279,\n",
        "            \"entity_type\": \"SG_ADDRESS\",\n",
        "            \"recognition_metadata\": {\n",
        "                \"recognizer_identifier\": \"SgAddressRecognizer_140322543810736\",\n",
        "                \"recognizer_name\": \"SgAddressRecognizer\"\n",
        "            },\n",
        "            \"score\": 0.95,\n",
        "            \"start\": 222\n",
        "        },\n",
        "        {\n",
        "            \"analysis_explanation\": None,\n",
        "            \"end\": 310,\n",
        "            \"entity_type\": \"PHONE_NUMBER\",\n",
        "            \"recognition_metadata\": {\n",
        "                \"recognizer_identifier\": \"PhoneRecognizer_140322543811840\",\n",
        "                \"recognizer_name\": \"PhoneRecognizer\"\n",
        "            },\n",
        "            \"score\": 0.95,\n",
        "            \"start\": 301\n",
        "        },\n",
        "        {\n",
        "            \"analysis_explanation\": None,\n",
        "            \"end\": 345,\n",
        "            \"entity_type\": \"PHONE_NUMBER\",\n",
        "            \"recognition_metadata\": {\n",
        "                \"recognizer_identifier\": \"PhoneRecognizer_140322543811840\",\n",
        "                \"recognizer_name\": \"PhoneRecognizer\"\n",
        "            },\n",
        "            \"score\": 0.95,\n",
        "            \"start\": 333\n",
        "        },\n",
        "        {\n",
        "            \"analysis_explanation\": None,\n",
        "            \"end\": 108,\n",
        "            \"entity_type\": \"PERSON\",\n",
        "            \"recognition_metadata\": {\n",
        "                \"recognizer_identifier\": \"SpacyRecognizer_140322543811792\",\n",
        "                \"recognizer_name\": \"SpacyRecognizer\"\n",
        "            },\n",
        "            \"score\": 0.85,\n",
        "            \"start\": 99\n",
        "        },\n",
        "        {\n",
        "            \"analysis_explanation\": None,\n",
        "            \"end\": 320,\n",
        "            \"entity_type\": \"PERSON\",\n",
        "            \"recognition_metadata\": {\n",
        "                \"recognizer_identifier\": \"SpacyRecognizer_140322543811792\",\n",
        "                \"recognizer_name\": \"SpacyRecognizer\"\n",
        "            },\n",
        "            \"score\": 0.85,\n",
        "            \"start\": 315\n",
        "        },\n",
        "        {\n",
        "            \"analysis_explanation\": None,\n",
        "            \"end\": 345,\n",
        "            \"entity_type\": \"SG_BANK_ACCOUNT_NUMBER\",\n",
        "            \"recognition_metadata\": {\n",
        "                \"recognizer_identifier\": \"SgBankAccountRecognizer_140322543810688\",\n",
        "                \"recognizer_name\": \"SgBankAccountRecognizer\"\n",
        "            },\n",
        "            \"score\": 0.45999999999999996,\n",
        "            \"start\": 337\n",
        "        }\n",
        "    ]\n",
        "}\n",
        "\n",
        "service = \"fta\"\n",
        "\n",
        "signed_headers = {\n",
        "    \"Content-Type\": \"application/json\"\n",
        "}"
      ]
    },
    {
      "cell_type": "code",
      "execution_count": 14,
      "metadata": {
        "id": "LCh_unQq6aDb",
        "outputId": "e646eb2c-2d0f-4f09-95b7-4259f1992067"
      },
      "outputs": [
        {
          "data": {
            "text/plain": [
              "{'text': 'Dear Sir/Madam, I am writing to appeal to the Singapore Ministry of Manpower on behalf of my wife, <PERSON> (<MASKED NRIC>), whose work pass is due for renewal. Her date of birth is 11 November 1911. Our Singapore address is <SG_ADDRESS>. My mobile number is <PHONE_NUMBER> and <PERSON>’s number is <PHONE_NUMBER> or you can email us at kimfamily@gmail.com.',\n",
              " 'items': [{'start': 299,\n",
              "   'end': 313,\n",
              "   'entity_type': 'PHONE_NUMBER',\n",
              "   'original_text': '+65 88534123',\n",
              "   'text': '<PHONE_NUMBER>',\n",
              "   'operator': 'replace'},\n",
              "  {'start': 278,\n",
              "   'end': 286,\n",
              "   'entity_type': 'PERSON',\n",
              "   'original_text': 'Harin',\n",
              "   'text': '<PERSON>',\n",
              "   'operator': 'replace'},\n",
              "  {'start': 259,\n",
              "   'end': 273,\n",
              "   'entity_type': 'PHONE_NUMBER',\n",
              "   'original_text': '9384 5432',\n",
              "   'text': '<PHONE_NUMBER>',\n",
              "   'operator': 'replace'},\n",
              "  {'start': 225,\n",
              "   'end': 237,\n",
              "   'entity_type': 'SG_ADDRESS',\n",
              "   'original_text': 'Block 555 Tampines North Drive 12 #11-11 Singapore 510555',\n",
              "   'text': '<SG_ADDRESS>',\n",
              "   'operator': 'replace'},\n",
              "  {'start': 109,\n",
              "   'end': 122,\n",
              "   'entity_type': 'SG_NRIC_FIN',\n",
              "   'original_text': 'S8273756Y',\n",
              "   'text': '<MASKED NRIC>',\n",
              "   'operator': 'replace'},\n",
              "  {'start': 99,\n",
              "   'end': 107,\n",
              "   'entity_type': 'PERSON',\n",
              "   'original_text': 'Kim Harin',\n",
              "   'text': '<PERSON>',\n",
              "   'operator': 'replace'}]}"
            ]
          },
          "execution_count": 14,
          "metadata": {},
          "output_type": "execute_result"
        }
      ],
      "source": [
        "path, query_params = extract_url_info(url)\n",
        "signature = generate_signature(http_method, path, query_params, signed_headers, payload, private_key, service)\n",
        "authorization = f'CLOAK-AUTH Credential={public_key},SignedHeaders=content-type,Signature={signature}'\n",
        "headers = {'Content-Type':'application/json', 'Accept':'application/json', 'Authorization': f'{authorization}', 'x-cloak-service': f'{service}'}\n",
        "response = requests.post(url, headers=headers, json=payload, verify=False)\n",
        "response.json()"
      ]
    },
    {
      "cell_type": "markdown",
      "metadata": {
        "id": "aHlvjFQg6aDb"
      },
      "source": [
        "#### 1.3 Transform\n",
        "\n",
        "Combines Analyse and Anonymise process into one"
      ]
    },
    {
      "cell_type": "code",
      "execution_count": 15,
      "metadata": {
        "id": "bBsZmINM6aDb"
      },
      "outputs": [],
      "source": [
        "# create the endpoint request\n",
        "http_method = \"POST\"\n",
        "\n",
        "url = 'https://ext-api.cloak.gov.sg/prod/L4/transform'\n",
        "\n",
        "payload = {\n",
        "    \"text\": \"Dear Sir/Madam, I am writing to appeal to the Singapore Ministry of Manpower on behalf of my wife, Kim Harin (S8273756Y), whose work pass is due for renewal. Her date of birth is 11 November 1911. Our Singapore address is Block 555 Tampines North Drive 12 #11-11 Singapore 510555. My mobile number is 9384 5432 and Harin’s number is +65 88534123 or you can email us at kimfamily@gmail.com.\",\n",
        "    \"language\": \"en\",\n",
        "    \"entities\": [\n",
        "        \"PERSON\",\n",
        "        \"SG_NRIC_FIN\",\n",
        "        \"SG_BANK_ACCOUNT_NUMBER\",\n",
        "        \"SG_ADDRESS\",\n",
        "        \"PHONE_NUMBER\",\n",
        "        \"EMAIL_ADDRESS\"\n",
        "    ],\n",
        "    \"score_threshold\": 0.3,\n",
        "    \"anonymizers\": {\n",
        "        \"SG_NRIC_FIN\": {\n",
        "            \"type\": \"replace\",\n",
        "            \"new_value\": \"<SG_NRIC_FIN>\"\n",
        "        },\n",
        "        \"PHONE_NUMBER\": {\n",
        "            \"type\": \"mask\",\n",
        "            \"masking_char\": \"*\",\n",
        "            \"chars_to_mask\": 4,\n",
        "            \"from_end\": False\n",
        "        },\n",
        "\n",
        "        \"PERSON\": {\n",
        "            \"type\": \"hash\",\n",
        "            \"hash_type\": \"sha256\"\n",
        "        },\n",
        "\n",
        "        \"EMAIL_ADDRESS\": {\n",
        "            \"type\": \"encrypt\",\n",
        "            \"key\": \"12345678901234567890123456789012\"\n",
        "        },\n",
        "\n",
        "        \"SG_ADDRESS\": {\n",
        "            \"type\": \"replace\",\n",
        "            \"new_value\": \"<SG_ADDRESS>\"\n",
        "        },\n",
        "\n",
        "        \"SG_BANK_ACCOUNT_NUMBER\": {\n",
        "            \"type\": \"replace\",\n",
        "            \"new_value\": \"<SG_BANK_ACCOUNT_NUMBER>\"\n",
        "        }\n",
        "    }\n",
        "}\n",
        "\n",
        "service = \"fta\"\n",
        "\n",
        "signed_headers = {\n",
        "    \"Content-Type\": \"application/json\"\n",
        "}"
      ]
    },
    {
      "cell_type": "code",
      "execution_count": 16,
      "metadata": {
        "id": "s9fzRjt66aDc",
        "outputId": "5843f2fa-bc8e-425d-89b5-65230fa2c2a3"
      },
      "outputs": [
        {
          "data": {
            "text/plain": [
              "{'text': 'Dear Sir/Madam, I am writing to appeal to the Singapore Ministry of Manpower on behalf of my wife, 27f091ca5b236160910cba5e6b6c2ab87316bcfbc6c48a17317cb137158c7f92 (S8273756Y), whose work pass is due for renewal. Her date of birth is 11 November 1911. Our Singapore address is <SG_ADDRESS>. My mobile number is **** 5432 and 636b17bb7cbab1118e6124a690df7d7e7b13cf991f86532abcaba372a420d53d’s number is ****88534123 or you can email us at YPZlhtlk+kV9MuNYFVggOOlbto8BiiLChmPJEuZ8fDTj8P4tjqrlej3xI0MJDTS7.',\n",
              " 'items': [{'start': 438,\n",
              "   'end': 502,\n",
              "   'entity_type': 'EMAIL_ADDRESS',\n",
              "   'original_text': 'kimfamily@gmail.com',\n",
              "   'text': 'YPZlhtlk+kV9MuNYFVggOOlbto8BiiLChmPJEuZ8fDTj8P4tjqrlej3xI0MJDTS7',\n",
              "   'operator': 'encrypt'},\n",
              "  {'start': 402,\n",
              "   'end': 414,\n",
              "   'entity_type': 'PHONE_NUMBER',\n",
              "   'original_text': '+65 88534123',\n",
              "   'text': '****88534123',\n",
              "   'operator': 'mask'},\n",
              "  {'start': 325,\n",
              "   'end': 389,\n",
              "   'entity_type': 'PERSON',\n",
              "   'original_text': 'Harin',\n",
              "   'text': '636b17bb7cbab1118e6124a690df7d7e7b13cf991f86532abcaba372a420d53d',\n",
              "   'operator': 'hash'},\n",
              "  {'start': 311,\n",
              "   'end': 320,\n",
              "   'entity_type': 'PHONE_NUMBER',\n",
              "   'original_text': '9384 5432',\n",
              "   'text': '**** 5432',\n",
              "   'operator': 'mask'},\n",
              "  {'start': 277,\n",
              "   'end': 289,\n",
              "   'entity_type': 'SG_ADDRESS',\n",
              "   'original_text': 'Block 555 Tampines North Drive 12 #11-11 Singapore 510555',\n",
              "   'text': '<SG_ADDRESS>',\n",
              "   'operator': 'replace'},\n",
              "  {'start': 99,\n",
              "   'end': 163,\n",
              "   'entity_type': 'PERSON',\n",
              "   'original_text': 'Kim Harin',\n",
              "   'text': '27f091ca5b236160910cba5e6b6c2ab87316bcfbc6c48a17317cb137158c7f92',\n",
              "   'operator': 'hash'}]}"
            ]
          },
          "execution_count": 16,
          "metadata": {},
          "output_type": "execute_result"
        }
      ],
      "source": [
        "# make the transformation request\n",
        "path, query_params = extract_url_info(url)\n",
        "signature = generate_signature(http_method, path, query_params, signed_headers, payload, private_key, service)\n",
        "authorization = f'CLOAK-AUTH Credential={public_key},SignedHeaders=content-type,Signature={signature}'\n",
        "headers = {'Content-Type':'application/json', 'Accept':'application/json', 'Authorization': f'{authorization}', 'x-cloak-service': f'{service}'}\n",
        "response = requests.post(url, headers=headers, json=payload, verify=True)\n",
        "response.json()"
      ]
    },
    {
      "cell_type": "markdown",
      "metadata": {
        "id": "p1DvYE1F6aDc"
      },
      "source": [
        "### 2. Tabular Data Anonymisation\n",
        "\n",
        "Tabular Data Anonymisation allows users to tag and transform data through **transformation/anonymisation techniques** and address re-identification risk through **k-anonymity checks**"
      ]
    },
    {
      "cell_type": "markdown",
      "metadata": {
        "id": "GrxyAc7j6aDc"
      },
      "source": [
        "#### 2.1 Create New Task\n",
        "\n",
        "A task can be used to transform/anonymise tabular data, a task is identified by its `task_id`"
      ]
    },
    {
      "cell_type": "code",
      "execution_count": 43,
      "metadata": {
        "id": "GZMHhCLG6aDd",
        "outputId": "f87da134-053f-4f73-de4b-888d13e0a3eb"
      },
      "outputs": [
        {
          "data": {
            "text/plain": [
              "{'data': {'task_id': 'TLwbIbI01dkz'}}"
            ]
          },
          "execution_count": 43,
          "metadata": {},
          "output_type": "execute_result"
        }
      ],
      "source": [
        "# Create new task (POST Example)\n",
        "\n",
        "url = 'https://ext-api.cloak.gov.sg/prod/L4/tabular/tasks'\n",
        "\n",
        "http_method = \"POST\"\n",
        "\n",
        "signed_headers = {\n",
        "    \"Content-Type\": \"application/json\"\n",
        "}\n",
        "\n",
        "path, query_params = extract_url_info(url)\n",
        "\n",
        "service = \"tda\"\n",
        "\n",
        "payload = {\n",
        "    \"task_type\": \"PAYLOAD\",\n",
        "    \"access_mode\": \"CUSTOM\",\n",
        "    \"rules\": [\n",
        "        {\n",
        "            \"column_name\": \"Address\",\n",
        "            \"info_type\": \"OTHERS\",\n",
        "            \"sensitivity_type\": \"NON_SENSITIVE\",\n",
        "            \"data_type\": \"TEXT\",\n",
        "            \"transformation\": \"MASK\",\n",
        "            \"parameters\": {\n",
        "                \"mask_type\": \"mask_suffix\",\n",
        "                \"num_of_char\": 10,\n",
        "                \"error_resolution_type\": \"keyword\"\n",
        "            }\n",
        "        },\n",
        "        {\n",
        "            \"column_name\": \"user_nric\",\n",
        "            \"info_type\": \"OTHERS\",\n",
        "            \"sensitivity_type\": \"SENSITIVE\",\n",
        "            \"data_type\": \"TEXT\",\n",
        "            \"transformation\": \"MASK\",\n",
        "            \"parameters\": {\n",
        "                \"mask_type\": \"mask_suffix\",\n",
        "                \"num_of_char\": 8,\n",
        "                \"error_resolution_type\": \"keyword\"\n",
        "            }\n",
        "        }\n",
        "    ]\n",
        "}\n",
        "\n",
        "signature = generate_signature(http_method, path, query_params, signed_headers, payload, private_key, service)\n",
        "authorization = f'CLOAK-AUTH Credential={public_key},SignedHeaders=content-type,Signature={signature}'\n",
        "headers = {'Content-Type':'application/json', 'Accept':'application/json', 'Authorization': f'{authorization}', 'x-cloak-service': f'{service}'}\n",
        "response = requests.post(url, headers=headers, json=payload, verify=False)\n",
        "\n",
        "response.json()"
      ]
    },
    {
      "cell_type": "code",
      "execution_count": 44,
      "metadata": {
        "id": "Gq1PZgYl6aDd",
        "outputId": "07803db1-0693-486d-c1b6-511257770380"
      },
      "outputs": [
        {
          "data": {
            "text/plain": [
              "'TLwbIbI01dkz'"
            ]
          },
          "execution_count": 44,
          "metadata": {},
          "output_type": "execute_result"
        }
      ],
      "source": [
        "task_id = response.json()['data']['task_id']\n",
        "\n",
        "task_id"
      ]
    },
    {
      "cell_type": "markdown",
      "metadata": {
        "id": "3paHamHQ6aDd"
      },
      "source": [
        "#### 2.2 Getting All Tasks"
      ]
    },
    {
      "cell_type": "code",
      "execution_count": null,
      "metadata": {
        "id": "HXC9-yXu6aDd",
        "outputId": "a973758f-b974-4ee8-aec9-939adf596580"
      },
      "outputs": [],
      "source": [
        "# Get All tasks (GET Example)\n",
        "\n",
        "url = 'https://ext-api.cloak.gov.sg/prod/L4/tabular/tasks'\n",
        "http_method = \"GET\"\n",
        "signed_headers = {\n",
        "    \"Content-Type\": \"application/json\"\n",
        "}\n",
        "\n",
        "payload = {}\n",
        "\n",
        "path, query_params = extract_url_info(url)\n",
        "\n",
        "service = \"tda\"\n",
        "\n",
        "signature = generate_signature(http_method, path, query_params, signed_headers, payload, private_key, service)\n",
        "authorization = f'CLOAK-AUTH Credential={public_key},SignedHeaders=content-type,Signature={signature}'\n",
        "headers = {'Content-Type':'application/json', 'Accept':'application/json', 'Authorization': f'{authorization}', 'x-cloak-service': f'{service}'}\n",
        "response = requests.get(url, headers=headers, verify=False)\n",
        "\n",
        "response.json()"
      ]
    },
    {
      "cell_type": "markdown",
      "metadata": {
        "id": "tnQKB9TS6aDe"
      },
      "source": [
        "#### 2.3 Create Transform Using Task"
      ]
    },
    {
      "cell_type": "code",
      "execution_count": 46,
      "metadata": {
        "id": "QwB80XCV6aDe",
        "outputId": "cb4a1442-4edf-4496-b263-40270e747e2f"
      },
      "outputs": [
        {
          "data": {
            "text/plain": [
              "{'data': [{'user_nric': 'S********', 'Address': '30 Bal**********'},\n",
              "  {'user_nric': 'G********', 'Address': '44 Telok Bla**********'}]}"
            ]
          },
          "execution_count": 46,
          "metadata": {},
          "output_type": "execute_result"
        }
      ],
      "source": [
        "# Create Transform (POST Example)\n",
        "\n",
        "http_method = \"POST\"\n",
        "\n",
        "url = f'https://ext-api.cloak.gov.sg/prod/L4/tabular/tasks/{task_id}/transform'\n",
        "\n",
        "signed_headers = {\n",
        "    \"Content-Type\": \"application/json\"\n",
        "}\n",
        "\n",
        "path, query_params = extract_url_info(url)\n",
        "\n",
        "service = \"tda\"\n",
        "\n",
        "payload = {\n",
        "    \"data\": [\n",
        "        {\n",
        "            \"user_nric\": \"S1234567D\",\n",
        "            \"Address\": \"30 Balabala road\"\n",
        "        },\n",
        "        {\n",
        "            \"user_nric\": \"G1234567B\",\n",
        "            \"Address\": \"44 Telok Blangah drive\"\n",
        "        }\n",
        "    ]\n",
        "}\n",
        "\n",
        "signature = generate_signature(http_method, path, query_params, signed_headers, payload, private_key, service)\n",
        "authorization = f'CLOAK-AUTH Credential={public_key},SignedHeaders=content-type,Signature={signature}'\n",
        "headers = {'Content-Type':'application/json', 'Accept':'application/json', 'Authorization': f'{authorization}', 'x-cloak-service': f'{service}'}\n",
        "response = requests.post(url, headers=headers, json=payload, verify=False)\n",
        "\n",
        "response.json()"
      ]
    },
    {
      "cell_type": "markdown",
      "metadata": {
        "id": "K2DwXN946aDf"
      },
      "source": [
        "Using Tabular Data Anonymisation on **CSV**"
      ]
    },
    {
      "cell_type": "code",
      "execution_count": 47,
      "metadata": {
        "id": "Beuu8dEp6aDf"
      },
      "outputs": [],
      "source": [
        "import csv\n",
        "\n",
        "# Functions to transform CSV data into Json data and vice-versa\n",
        "\n",
        "def csv_to_json(filename):\n",
        "    data = []\n",
        "    with open(filename, mode='r', encoding='utf-8') as file:\n",
        "        reader = csv.reader(file)\n",
        "        headers = next(reader)  # Read the first row as headers\n",
        "\n",
        "        for row in reader:\n",
        "            if len(row) >= 2:  # Ensure at least two columns exist\n",
        "                data.append({\n",
        "                    \"user_nric\": row[0],\n",
        "                    \"Address\": row[1]\n",
        "                })\n",
        "    return {\"data\": data}\n",
        "\n",
        "\n",
        "def json_to_csv(json_data, output_filename):\n",
        "    # Open the output CSV file\n",
        "    with open(output_filename, mode='w', newline='', encoding='utf-8') as outfile:\n",
        "        fieldnames = ['user_nric', 'Address']\n",
        "        writer = csv.DictWriter(outfile, fieldnames=fieldnames)\n",
        "\n",
        "        # Write the header row\n",
        "        writer.writeheader()\n",
        "\n",
        "        # Write the rows from the JSON data\n",
        "        for item in json_data:\n",
        "            writer.writerow({\n",
        "                'user_nric': item['user_nric'],\n",
        "                'Address': item['Address']\n",
        "            })"
      ]
    },
    {
      "cell_type": "code",
      "execution_count": 48,
      "metadata": {
        "id": "EIvcLwEd6aDf"
      },
      "outputs": [],
      "source": [
        "read_filename = \"data.csv\"\n",
        "payload = csv_to_json(read_filename)"
      ]
    },
    {
      "cell_type": "code",
      "execution_count": 49,
      "metadata": {
        "id": "f2lbCmAo6aDf",
        "outputId": "ef819dc4-e9a3-41e9-ca0e-768a2afde4d9"
      },
      "outputs": [
        {
          "data": {
            "text/plain": [
              "{'data': [{'user_nric': 'S1234567D', 'Address': '30 Balabala Road'},\n",
              "  {'user_nric': 'G1234567B', 'Address': '44 Telok Blangah Drive'},\n",
              "  {'user_nric': 'T0456789A', 'Address': '20 Ghim Moh Rd'},\n",
              "  {'user_nric': 'S8765432J', 'Address': '15 Holland Avenue'},\n",
              "  {'user_nric': 'F2345678N', 'Address': '99 Punggol Field'},\n",
              "  {'user_nric': 'T9876543K', 'Address': '22 Yishun Street 81'},\n",
              "  {'user_nric': 'G7654321M', 'Address': '50 Bedok South Ave 3'},\n",
              "  {'user_nric': 'S3456789P', 'Address': '10 Serangoon North Ave 1'},\n",
              "  {'user_nric': 'T1122334Z', 'Address': '33 Pasir Ris Drive 8'},\n",
              "  {'user_nric': 'F5566778L', 'Address': '12 Clementi Ave 4'},\n",
              "  {'user_nric': 'G3344556R', 'Address': '88 Tampines Central 7'},\n",
              "  {'user_nric': 'S7788990X', 'Address': '77 Bukit Timah Road'},\n",
              "  {'user_nric': 'T6677889Y', 'Address': '25 Jurong West Street 42'},\n",
              "  {'user_nric': 'F9900112K', 'Address': '18 Toa Payoh Lorong 5'},\n",
              "  {'user_nric': 'G8822334M', 'Address': '60 Choa Chu Kang Loop'},\n",
              "  {'user_nric': 'S3344556T', 'Address': '14 Sengkang East Way'},\n",
              "  {'user_nric': 'T4455667J', 'Address': '55 Woodlands Ave 2'},\n",
              "  {'user_nric': 'F7788990X', 'Address': '70 Hougang Ave 9'},\n",
              "  {'user_nric': 'G9900112Q', 'Address': '31 Bishan Street 12'},\n",
              "  {'user_nric': 'S6677889W', 'Address': '90 Upper Bukit Timah Rd'},\n",
              "  {'user_nric': 'T1234567H', 'Address': '40 Kallang Bahru'}]}"
            ]
          },
          "execution_count": 49,
          "metadata": {},
          "output_type": "execute_result"
        }
      ],
      "source": [
        "payload"
      ]
    },
    {
      "cell_type": "code",
      "execution_count": 50,
      "metadata": {
        "id": "5VIcZhHD6aDh",
        "outputId": "ff7f625e-0306-49fa-f059-67fdc6bd1ea1"
      },
      "outputs": [
        {
          "data": {
            "text/plain": [
              "{'data': [{'user_nric': 'S********', 'Address': '30 Bal**********'},\n",
              "  {'user_nric': 'G********', 'Address': '44 Telok Bla**********'},\n",
              "  {'user_nric': 'T********', 'Address': '20 G**********'},\n",
              "  {'user_nric': 'S********', 'Address': '15 Holl**********'},\n",
              "  {'user_nric': 'F********', 'Address': '99 Pun**********'},\n",
              "  {'user_nric': 'T********', 'Address': '22 Yishun**********'},\n",
              "  {'user_nric': 'G********', 'Address': '50 Bedok S**********'},\n",
              "  {'user_nric': 'S********', 'Address': '10 Serangoon N**********'},\n",
              "  {'user_nric': 'T********', 'Address': '33 Pasir R**********'},\n",
              "  {'user_nric': 'F********', 'Address': '12 Clem**********'},\n",
              "  {'user_nric': 'G********', 'Address': '88 Tampines**********'},\n",
              "  {'user_nric': 'S********', 'Address': '77 Bukit **********'},\n",
              "  {'user_nric': 'T********', 'Address': '25 Jurong West**********'},\n",
              "  {'user_nric': 'F********', 'Address': '18 Toa Payo**********'},\n",
              "  {'user_nric': 'G********', 'Address': '60 Choa Chu**********'},\n",
              "  {'user_nric': 'S********', 'Address': '14 Sengkan**********'},\n",
              "  {'user_nric': 'T********', 'Address': '55 Woodl**********'},\n",
              "  {'user_nric': 'F********', 'Address': '70 Hou**********'},\n",
              "  {'user_nric': 'G********', 'Address': '31 Bishan**********'},\n",
              "  {'user_nric': 'S********', 'Address': '90 Upper Buki**********'},\n",
              "  {'user_nric': 'T********', 'Address': '40 Kal**********'}]}"
            ]
          },
          "execution_count": 50,
          "metadata": {},
          "output_type": "execute_result"
        }
      ],
      "source": [
        "signature = generate_signature(http_method, path, query_params, signed_headers, payload, private_key, service)\n",
        "authorization = f'CLOAK-AUTH Credential={public_key},SignedHeaders=content-type,Signature={signature}'\n",
        "headers = {'Content-Type':'application/json', 'Accept':'application/json', 'Authorization': f'{authorization}', 'x-cloak-service': f'{service}'}\n",
        "response = requests.post(url, headers=headers, json=payload, verify=False)\n",
        "\n",
        "response.json()"
      ]
    },
    {
      "cell_type": "code",
      "execution_count": 51,
      "metadata": {
        "id": "YC1FFi9q6aDh"
      },
      "outputs": [],
      "source": [
        "json_data = response.json()[\"data\"]\n",
        "\n",
        "write_filename = \"masked.csv\"\n",
        "\n",
        "json_to_csv(json_data, write_filename)"
      ]
    },
    {
      "cell_type": "markdown",
      "metadata": {
        "id": "icbs2-Hx6aDi"
      },
      "source": [
        "## Conclusion\n",
        "\n",
        "While GovTech Cloak excels in detecting data specific to the Singapore context, such as Singaporean phone numbers and addresses, it lacks the flexibility offered by Microsoft Presidio in terms of customizing and extending analyzers and anonymizers to meet specific use cases.\n",
        "\n",
        "Despite both Cloak and Presidio performing suboptimally in detecting certain Personally Identifiable Information (PII) entities, such as Singapore Passport IDs, Presidio’s open-source nature provides a distinct advantage. Users can fine-tune and extend Presidio to enhance its accuracy and tailor it to their unique requirements, making it a more adaptable solution for diverse data protection needs.\n",
        "\n",
        "| Quality | Presidio | Cloak |\n",
        "|----------|----------|----------|\n",
        "| Analyze  | Limited for local context  | Limited, still lacks support for some Singapore-specific entities  |\n",
        "| Anonymize  | Yes  | Yes  |\n",
        "| Transformation  | No  | Yes  |\n",
        "| Modifying/Extending Analyzers/Anonymizers  | Yes  | Limited, only able to modify anonymisers  |\n",
        "| Encryption/Decryption  | Yes  | Yes  |\n",
        "| Image Redaction  | Yes  | No  |"
      ]
    }
  ],
  "metadata": {
    "colab": {
      "provenance": []
    },
    "kernelspec": {
      "display_name": "presidio_venv",
      "language": "python",
      "name": "python3"
    },
    "language_info": {
      "codemirror_mode": {
        "name": "ipython",
        "version": 3
      },
      "file_extension": ".py",
      "mimetype": "text/x-python",
      "name": "python",
      "nbconvert_exporter": "python",
      "pygments_lexer": "ipython3",
      "version": "3.8.20"
    }
  },
  "nbformat": 4,
  "nbformat_minor": 0
}
