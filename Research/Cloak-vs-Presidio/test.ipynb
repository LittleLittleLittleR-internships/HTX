{
 "cells": [
  {
   "cell_type": "code",
   "execution_count": 1,
   "metadata": {},
   "outputs": [],
   "source": [
    "import pprint\n",
    "from presidio_analyzer import AnalyzerEngine\n",
    "\n",
    "analyzer = AnalyzerEngine()"
   ]
  },
  {
   "cell_type": "code",
   "execution_count": 8,
   "metadata": {},
   "outputs": [
    {
     "name": "stdout",
     "output_type": "stream",
     "text": [
      "test 1:\n",
      "[type: PERSON, start: 12, end: 17, score: 0.85,\n",
      " type: PHONE_NUMBER, start: 42, end: 54, score: 0.75]\n",
      "\n"
     ]
    }
   ],
   "source": [
    "text_to_analyze = \"His name is Jones and his phone number is 212-555-5555\"\n",
    "analyzer_results = analyzer.analyze(text=text_to_analyze, entities=[\"PHONE_NUMBER\", \"PERSON\"], language=\"en\")\n",
    "print(\"test 1:\")\n",
    "pprint.pp(analyzer_results) #confidence scores provided\n",
    "print()"
   ]
  },
  {
   "cell_type": "code",
   "execution_count": 9,
   "metadata": {},
   "outputs": [],
   "source": [
    "from presidio_anonymizer import AnonymizerEngine\n",
    "from presidio_anonymizer.entities import RecognizerResult, OperatorConfig\n",
    "\n",
    "engine = AnonymizerEngine()"
   ]
  },
  {
   "cell_type": "code",
   "execution_count": 10,
   "metadata": {},
   "outputs": [
    {
     "data": {
      "text/plain": [
       "[type: PERSON, start: 12, end: 17, score: 0.85,\n",
       " type: PHONE_NUMBER, start: 42, end: 54, score: 0.75]"
      ]
     },
     "execution_count": 10,
     "metadata": {},
     "output_type": "execute_result"
    }
   ],
   "source": [
    "analyzer_results"
   ]
  },
  {
   "cell_type": "code",
   "execution_count": null,
   "metadata": {},
   "outputs": [
    {
     "name": "stdout",
     "output_type": "stream",
     "text": [
      "De-identified text\n",
      "His name is <PERSON> and his phone number is <PHONE_NUMBER>\n"
     ]
    }
   ],
   "source": [
    "text_to_anonymize = \"His name is Jones and his phone number is 212-555-5555\"\n",
    "\n",
    "result = engine.anonymize(\n",
    "    text=text_to_anonymize, analyzer_results=analyzer_results\n",
    ")\n",
    "\n",
    "print(\"de-identified text:\")\n",
    "print(result.text)"
   ]
  },
  {
   "cell_type": "markdown",
   "metadata": {},
   "source": [
    "|  | Presidio | Cloak |\n",
    "|----------|----------|----------|\n",
    "|Accessibility  | Open Source  | API  |\n",
    "| Analyze  | Limited for local context  | Limited, still lacks support for some Singapore-specific entities  |\n",
    "| Anonymize  | Yes  | Yes  |\n",
    "| Transformation  | No  | Yes  |\n",
    "| Modifying/Extending Analyzers/Anonymizers  | Yes  | No  |\n",
    "| Encryption/Decryption  | Yes  | Yes  |\n",
    "| Image Redaction  | Yes  | No  |"
   ]
  },
  {
   "cell_type": "markdown",
   "metadata": {},
   "source": []
  }
 ],
 "metadata": {
  "kernelspec": {
   "display_name": "presidio_venv",
   "language": "python",
   "name": "python3"
  },
  "language_info": {
   "codemirror_mode": {
    "name": "ipython",
    "version": 3
   },
   "file_extension": ".py",
   "mimetype": "text/x-python",
   "name": "python",
   "nbconvert_exporter": "python",
   "pygments_lexer": "ipython3",
   "version": "3.8.20"
  }
 },
 "nbformat": 4,
 "nbformat_minor": 2
}
